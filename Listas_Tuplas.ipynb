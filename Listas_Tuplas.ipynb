{
  "nbformat": 4,
  "nbformat_minor": 0,
  "metadata": {
    "colab": {
      "provenance": [],
      "authorship_tag": "ABX9TyPEnDhSD+78J/f+v8h5MO27",
      "include_colab_link": true
    },
    "kernelspec": {
      "name": "python3",
      "display_name": "Python 3"
    },
    "language_info": {
      "name": "python"
    }
  },
  "cells": [
    {
      "cell_type": "markdown",
      "metadata": {
        "id": "view-in-github",
        "colab_type": "text"
      },
      "source": [
        "<a href=\"https://colab.research.google.com/github/yaleni/Python_2025/blob/main/Listas_Tuplas.ipynb\" target=\"_parent\"><img src=\"https://colab.research.google.com/assets/colab-badge.svg\" alt=\"Open In Colab\"/></a>"
      ]
    },
    {
      "cell_type": "code",
      "execution_count": null,
      "metadata": {
        "colab": {
          "base_uri": "https://localhost:8080/"
        },
        "id": "hI37sigNgSga",
        "outputId": "5163ea0d-3322-4b9c-904d-105a72a8d145"
      },
      "outputs": [
        {
          "output_type": "stream",
          "name": "stdout",
          "text": [
            "['manzana', 'banana', 'cereza']\n"
          ]
        }
      ],
      "source": [
        "#LISTAS EN PYTHON\n",
        "frutas =[\"manzana\",\"banana\",\"cereza\"]\n",
        "print(frutas)"
      ]
    },
    {
      "cell_type": "code",
      "source": [
        "type(frutas)"
      ],
      "metadata": {
        "colab": {
          "base_uri": "https://localhost:8080/"
        },
        "id": "wGVRwcqogmh8",
        "outputId": "d3b003e9-76b9-4c96-f279-e63a310595f8"
      },
      "execution_count": null,
      "outputs": [
        {
          "output_type": "execute_result",
          "data": {
            "text/plain": [
              "list"
            ]
          },
          "metadata": {},
          "execution_count": 5
        }
      ]
    },
    {
      "cell_type": "code",
      "source": [
        "numeros =[1,2,3,4,5,6,7,8,9,10]\n",
        "type(numeros)\n",
        "#print(numeros)"
      ],
      "metadata": {
        "colab": {
          "base_uri": "https://localhost:8080/"
        },
        "id": "dSXG8WGxg-bT",
        "outputId": "4aebd2b2-9ed9-4643-d9a7-f7f06d58b689"
      },
      "execution_count": null,
      "outputs": [
        {
          "output_type": "stream",
          "name": "stdout",
          "text": [
            "[1, 2, 3, 4, 5, 6, 7, 8, 9, 10]\n"
          ]
        }
      ]
    },
    {
      "cell_type": "code",
      "source": [
        "mylista = [\"a\",1,1.1,True,[1,2,3], [\"Andrea\", \"Sandro\", \"Alex\"]]\n",
        "type(mylista)\n",
        "print(mylista)"
      ],
      "metadata": {
        "colab": {
          "base_uri": "https://localhost:8080/"
        },
        "id": "RGvZ4aB9hN49",
        "outputId": "afb45f8e-9be5-4013-c4bd-ea32f38bef78"
      },
      "execution_count": null,
      "outputs": [
        {
          "output_type": "stream",
          "name": "stdout",
          "text": [
            "['a', 1, 1.1, True, [1, 2, 3], ['Andrea', 'Sandro', 'Alex']]\n"
          ]
        }
      ]
    },
    {
      "cell_type": "code",
      "source": [
        "mylista[5][1]"
      ],
      "metadata": {
        "colab": {
          "base_uri": "https://localhost:8080/",
          "height": 36
        },
        "id": "UtrW2_1qh9Xy",
        "outputId": "ba06845f-10eb-4a0a-b1f2-f3f747ceaae9"
      },
      "execution_count": null,
      "outputs": [
        {
          "output_type": "execute_result",
          "data": {
            "text/plain": [
              "'Sandro'"
            ],
            "application/vnd.google.colaboratory.intrinsic+json": {
              "type": "string"
            }
          },
          "metadata": {},
          "execution_count": 14
        }
      ]
    },
    {
      "cell_type": "code",
      "source": [
        "#REASIGNANDO UN VALOR\n",
        "frutas[0] = \"sandía\"\n",
        "print(frutas)"
      ],
      "metadata": {
        "colab": {
          "base_uri": "https://localhost:8080/"
        },
        "id": "WzQUgFP1inHL",
        "outputId": "e62022f8-4111-4569-9fd2-596ac7dfd856"
      },
      "execution_count": null,
      "outputs": [
        {
          "output_type": "stream",
          "name": "stdout",
          "text": [
            "['sandía', 'banana', 'cereza']\n"
          ]
        }
      ]
    },
    {
      "cell_type": "code",
      "source": [
        "#AGREGANDO UN ELEMNTO A LA LISTA\n",
        "frutas.append(\"uva\")\n",
        "print(frutas)"
      ],
      "metadata": {
        "colab": {
          "base_uri": "https://localhost:8080/"
        },
        "id": "poEGFa7pi4Fi",
        "outputId": "714c6f13-f6d3-4d4a-b3ad-e6d675554e6d"
      },
      "execution_count": null,
      "outputs": [
        {
          "output_type": "stream",
          "name": "stdout",
          "text": [
            "['sandía', 'banana', 'cereza', 'uva']\n"
          ]
        }
      ]
    },
    {
      "cell_type": "code",
      "source": [
        "#UTILIZANDO EL MEODO SORT PARA ORDENAR\n",
        "frutas.sort()\n",
        "print(frutas)"
      ],
      "metadata": {
        "colab": {
          "base_uri": "https://localhost:8080/"
        },
        "id": "AzR4cxR1jgZ4",
        "outputId": "1638fab1-f106-4ec6-af69-1324a84f1bd4"
      },
      "execution_count": null,
      "outputs": [
        {
          "output_type": "stream",
          "name": "stdout",
          "text": [
            "['banana', 'cereza', 'sandía', 'uva']\n"
          ]
        }
      ]
    },
    {
      "cell_type": "code",
      "source": [
        "#SORT(REVERSE)\n",
        "frutas.sort(reverse=True)\n",
        "print(frutas)"
      ],
      "metadata": {
        "colab": {
          "base_uri": "https://localhost:8080/"
        },
        "id": "zsB3hs0K9b-D",
        "outputId": "4f50d74d-5a06-4975-e56f-c3a51f2efd22"
      },
      "execution_count": null,
      "outputs": [
        {
          "output_type": "stream",
          "name": "stdout",
          "text": [
            "['uva', 'sandía', 'cereza', 'banana']\n"
          ]
        }
      ]
    },
    {
      "cell_type": "code",
      "source": [
        "#REMOVER DATOS DE LA LISTA\n",
        "frutas.remove(\"cereza\")\n",
        "print(frutas)\n",
        "\n",
        "#dir(frutas)"
      ],
      "metadata": {
        "colab": {
          "base_uri": "https://localhost:8080/"
        },
        "id": "QipTwX61987z",
        "outputId": "bd4cad10-24bd-4889-eb13-a24c9638d2ea"
      },
      "execution_count": null,
      "outputs": [
        {
          "output_type": "stream",
          "name": "stdout",
          "text": [
            "['uva', 'sandía', 'banana']\n"
          ]
        }
      ]
    },
    {
      "cell_type": "code",
      "source": [
        "#Concatenar listas\n",
        "lista1 = [1,2,3]\n",
        "lista2 = [4,5,6]\n",
        "lista3 = lista1 + lista2\n",
        "print(lista3)"
      ],
      "metadata": {
        "colab": {
          "base_uri": "https://localhost:8080/"
        },
        "id": "f2u_ltNw-MjW",
        "outputId": "1211df69-b1eb-4886-b073-801c23dee80e"
      },
      "execution_count": null,
      "outputs": [
        {
          "output_type": "stream",
          "name": "stdout",
          "text": [
            "[1, 2, 3, 4, 5, 6]\n"
          ]
        }
      ]
    },
    {
      "cell_type": "code",
      "source": [
        "repetida = lista1 * 3\n",
        "print(repetida)"
      ],
      "metadata": {
        "colab": {
          "base_uri": "https://localhost:8080/"
        },
        "id": "l0kTYOpG_BdT",
        "outputId": "63908859-a46c-466c-b314-6f4ff460bdc6"
      },
      "execution_count": null,
      "outputs": [
        {
          "output_type": "stream",
          "name": "stdout",
          "text": [
            "[1, 2, 3, 1, 2, 3, 1, 2, 3]\n"
          ]
        }
      ]
    },
    {
      "cell_type": "code",
      "source": [
        "#SEGMENTACION DE LISTAS\n",
        "sublista = lista3[2:5]\n",
        "print(sublista)"
      ],
      "metadata": {
        "colab": {
          "base_uri": "https://localhost:8080/"
        },
        "id": "TZd0cmuhAMll",
        "outputId": "e167bd00-02c5-49cd-d99d-22edbf1b9225"
      },
      "execution_count": null,
      "outputs": [
        {
          "output_type": "stream",
          "name": "stdout",
          "text": [
            "[3, 4, 5]\n"
          ]
        }
      ]
    },
    {
      "cell_type": "code",
      "source": [
        "#Ejercicio\n",
        "ciudades = [\"New York\", \"Paris\", \"Tokyo\", \"London\", \"Sydney\"]\n",
        "print(ciudades[0])\n",
        "print(ciudades[4])"
      ],
      "metadata": {
        "colab": {
          "base_uri": "https://localhost:8080/"
        },
        "id": "prCXvug6BJdR",
        "outputId": "f5842057-475e-4421-83d5-bae86816779e"
      },
      "execution_count": null,
      "outputs": [
        {
          "output_type": "stream",
          "name": "stdout",
          "text": [
            "New York\n",
            "Sydney\n"
          ]
        }
      ]
    },
    {
      "cell_type": "code",
      "source": [
        "numeros = [1, 2, 3, 4, 5]\n",
        "numeros.append(6)\n",
        "print(numeros)\n",
        "numeros.remove(1)\n",
        "print(numeros)\n",
        "numeros.insert(0, 7)\n",
        "print(numeros)\n",
        "numeros.sort()\n",
        "print(numeros)"
      ],
      "metadata": {
        "colab": {
          "base_uri": "https://localhost:8080/"
        },
        "id": "EUkVP2DoBdPZ",
        "outputId": "93319a3c-31f6-4982-a681-b5416cdefa79"
      },
      "execution_count": null,
      "outputs": [
        {
          "output_type": "stream",
          "name": "stdout",
          "text": [
            "[1, 2, 3, 4, 5, 6]\n",
            "[2, 3, 4, 5, 6]\n",
            "[7, 2, 3, 4, 5, 6]\n",
            "[2, 3, 4, 5, 6, 7]\n"
          ]
        }
      ]
    },
    {
      "cell_type": "code",
      "source": [
        "numeros = [1, 2, 3, 4, 5]\n",
        "print(numeros)\n",
        "\n",
        "numeros.append(6)\n",
        "print(numeros)\n",
        "\n",
        "numeros.pop(0)\n",
        "print(numeros)\n",
        "\n",
        "numeros.insert(1, 7)\n",
        "print(numeros)\n",
        "\n",
        "numeros.sort()\n",
        "print(numeros)\n"
      ],
      "metadata": {
        "colab": {
          "base_uri": "https://localhost:8080/"
        },
        "id": "IQPnQUPYEFkH",
        "outputId": "42104bff-6e98-4ccf-a807-a3a6ea669f84"
      },
      "execution_count": null,
      "outputs": [
        {
          "output_type": "stream",
          "name": "stdout",
          "text": [
            "[1, 2, 3, 4, 5]\n",
            "[1, 2, 3, 4, 5, 6]\n",
            "[2, 3, 4, 5, 6]\n",
            "[2, 7, 3, 4, 5, 6]\n",
            "[2, 3, 4, 5, 6, 7]\n"
          ]
        }
      ]
    },
    {
      "cell_type": "code",
      "source": [
        "lista1 = [1, 2, 3]\n",
        "lista2 = [4, 5, 6]\n",
        "combinada = lista1 + lista2\n",
        "print(combinada)\n",
        "repetida = lista1 * 3\n",
        "print(repetida)\n",
        "sublista = combinada[1:4]\n",
        "print(sublista)"
      ],
      "metadata": {
        "colab": {
          "base_uri": "https://localhost:8080/"
        },
        "id": "2IuTCNRaBpVZ",
        "outputId": "71c2dbb6-d3c8-4735-f2d1-3dddb5cd704d"
      },
      "execution_count": null,
      "outputs": [
        {
          "output_type": "stream",
          "name": "stdout",
          "text": [
            "[1, 2, 3, 4, 5, 6]\n",
            "[1, 2, 3, 1, 2, 3, 1, 2, 3]\n",
            "[2, 3, 4]\n"
          ]
        }
      ]
    },
    {
      "cell_type": "code",
      "source": [
        "#TUPLAS COLECCION DE ELEMENOTOS ORDENADOS, PERO NO PUEDEN CAMBIAR SUS ELEMENTOS Y SU TAMAÑO(INMUTABLES)\n",
        "\n",
        "T= 1,2,3\n",
        "type(T)"
      ],
      "metadata": {
        "colab": {
          "base_uri": "https://localhost:8080/"
        },
        "id": "3FK4cZD3Gnbm",
        "outputId": "ca04fd6e-040c-4974-dd80-f4e1a8e1f21f"
      },
      "execution_count": null,
      "outputs": [
        {
          "output_type": "execute_result",
          "data": {
            "text/plain": [
              "tuple"
            ]
          },
          "metadata": {},
          "execution_count": 48
        }
      ]
    },
    {
      "cell_type": "code",
      "source": [
        "#TRABAJANDO CON TUPLAS\n",
        "t = 0, 1,2"
      ],
      "metadata": {
        "id": "bMFZsgU4VNkO"
      },
      "execution_count": 1,
      "outputs": []
    },
    {
      "cell_type": "code",
      "source": [
        "type(t)"
      ],
      "metadata": {
        "colab": {
          "base_uri": "https://localhost:8080/"
        },
        "id": "prZkFqD-ValG",
        "outputId": "01b8bb82-093b-4bed-860c-959b398f636e"
      },
      "execution_count": 2,
      "outputs": [
        {
          "output_type": "execute_result",
          "data": {
            "text/plain": [
              "tuple"
            ]
          },
          "metadata": {},
          "execution_count": 2
        }
      ]
    },
    {
      "cell_type": "code",
      "source": [
        "#Tupla escrita de otra forma, pero significa lo mismo\n",
        "ss = (0,1,2)\n",
        "type(ss)"
      ],
      "metadata": {
        "colab": {
          "base_uri": "https://localhost:8080/"
        },
        "id": "Y9X3-fYIVhar",
        "outputId": "8f13df3b-57bd-40f5-c241-44ac98a644ff"
      },
      "execution_count": 4,
      "outputs": [
        {
          "output_type": "execute_result",
          "data": {
            "text/plain": [
              "tuple"
            ]
          },
          "metadata": {},
          "execution_count": 4
        }
      ]
    },
    {
      "cell_type": "code",
      "source": [
        "mi_tupla = (1,2,3,2,2,3,4,5)  #las tuplas no pueden ser modificado, no se pueden reasignar valores. se pueden contar e indexar\n",
        "elemento = mi_tupla[3]\n",
        "print(elemento)\n",
        "print(mi_tupla)"
      ],
      "metadata": {
        "colab": {
          "base_uri": "https://localhost:8080/"
        },
        "id": "RPQbKHFFWlrH",
        "outputId": "61a74e7d-0d26-4b1d-d551-d440acd73add"
      },
      "execution_count": 5,
      "outputs": [
        {
          "output_type": "stream",
          "name": "stdout",
          "text": [
            "2\n",
            "(1, 2, 3, 2, 2, 3, 4, 5)\n"
          ]
        }
      ]
    },
    {
      "cell_type": "code",
      "source": [
        "mi_tupla.count(2) #Cuenta el valor"
      ],
      "metadata": {
        "colab": {
          "base_uri": "https://localhost:8080/"
        },
        "id": "B-MGWO-MXTiM",
        "outputId": "8c444a53-e757-4151-e174-0e3c9624f3d5"
      },
      "execution_count": 10,
      "outputs": [
        {
          "output_type": "execute_result",
          "data": {
            "text/plain": [
              "3"
            ]
          },
          "metadata": {},
          "execution_count": 10
        }
      ]
    },
    {
      "cell_type": "code",
      "source": [
        "mi_tupla.index(4) #Muestra el indice del valor"
      ],
      "metadata": {
        "colab": {
          "base_uri": "https://localhost:8080/"
        },
        "id": "ySkglX77X4bR",
        "outputId": "328d2aa5-4a13-409f-baec-3efb9a265f50"
      },
      "execution_count": 11,
      "outputs": [
        {
          "output_type": "execute_result",
          "data": {
            "text/plain": [
              "6"
            ]
          },
          "metadata": {},
          "execution_count": 11
        }
      ]
    },
    {
      "cell_type": "code",
      "source": [
        "tupla1 = (1,2,3)\n",
        "a,b,c = tupla1\n",
        "\n",
        "#combinada = tupla1 + tupla2\n",
        "#rint(combinada)"
      ],
      "metadata": {
        "id": "sVQFQANlYh-E"
      },
      "execution_count": 13,
      "outputs": []
    },
    {
      "cell_type": "code",
      "source": [
        "milista1 = (1,2,3)\n",
        "a,b,c = milista1"
      ],
      "metadata": {
        "id": "rIQ7qUxFbz-b"
      },
      "execution_count": 14,
      "outputs": []
    },
    {
      "cell_type": "code",
      "source": [
        "#Ejemplo de tuplas\n",
        "nombre = (\"Martina\", \"Castro\")\n",
        "nacimiento = (1997 , 5 , 19)\n",
        "Datos = (nombre, nacimiento)\n",
        "Datos"
      ],
      "metadata": {
        "colab": {
          "base_uri": "https://localhost:8080/"
        },
        "id": "k3UgkpMzccGf",
        "outputId": "a192c550-d5b6-4559-bd48-eac937c82853"
      },
      "execution_count": 19,
      "outputs": [
        {
          "output_type": "execute_result",
          "data": {
            "text/plain": [
              "(('Martina', 'Castro'), (1997, 5, 19))"
            ]
          },
          "metadata": {},
          "execution_count": 19
        }
      ]
    },
    {
      "cell_type": "code",
      "source": [
        "#Acceder a los datos de la tupa datos, En este ejemplo eccediendo al apellido según el indice\n",
        "Datos[0][1]"
      ],
      "metadata": {
        "colab": {
          "base_uri": "https://localhost:8080/",
          "height": 36
        },
        "id": "w4K-6p6sdigK",
        "outputId": "c47c5afc-c363-400f-ca0e-4f9668ca8bd7"
      },
      "execution_count": 20,
      "outputs": [
        {
          "output_type": "execute_result",
          "data": {
            "text/plain": [
              "'Castro'"
            ],
            "application/vnd.google.colaboratory.intrinsic+json": {
              "type": "string"
            }
          },
          "metadata": {},
          "execution_count": 20
        }
      ]
    },
    {
      "cell_type": "code",
      "source": [
        "#Ejemplo\n",
        "auto = (\"Ford\", \"Fiesta\", \"Rojo\", 2021, 5 , 1.6)\n",
        "auto"
      ],
      "metadata": {
        "colab": {
          "base_uri": "https://localhost:8080/"
        },
        "id": "lZqY2Tepeb9W",
        "outputId": "94dd154c-00ee-45b3-dd9b-2afd0aa1b74c"
      },
      "execution_count": 22,
      "outputs": [
        {
          "output_type": "execute_result",
          "data": {
            "text/plain": [
              "('Ford', 'Fiesta', 'Rojo', 2021, 5, 1.6)"
            ]
          },
          "metadata": {},
          "execution_count": 22
        }
      ]
    },
    {
      "cell_type": "code",
      "source": [
        "(Marca, Modelo, Color, Modelo_año, Puertas, Motor) = auto\n",
        "auto"
      ],
      "metadata": {
        "colab": {
          "base_uri": "https://localhost:8080/"
        },
        "id": "B49NqienesJF",
        "outputId": "3dfb73c7-28e3-428a-f364-17f29568418a"
      },
      "execution_count": 26,
      "outputs": [
        {
          "output_type": "execute_result",
          "data": {
            "text/plain": [
              "('Ford', 'Fiesta', 'Rojo', 2021, 5, 1.6)"
            ]
          },
          "metadata": {},
          "execution_count": 26
        }
      ]
    },
    {
      "cell_type": "code",
      "source": [
        "Modelo, Puertas"
      ],
      "metadata": {
        "colab": {
          "base_uri": "https://localhost:8080/"
        },
        "id": "UOn-Eelte_iF",
        "outputId": "8a40c08e-8e8a-47d0-a8db-44d42286123a"
      },
      "execution_count": 27,
      "outputs": [
        {
          "output_type": "execute_result",
          "data": {
            "text/plain": [
              "('Fiesta', 5)"
            ]
          },
          "metadata": {},
          "execution_count": 27
        }
      ]
    },
    {
      "cell_type": "code",
      "source": [
        "#EJERCICIOS\n",
        "mi_primera_tupla = (1,2,3)\n",
        "print(mi_primera_tupla[1])\n",
        "\n",
        "#************\n",
        "\n",
        "datos_personales = (\"Maria\", \"Perez\", 35, \"Ingeniera\")\n",
        "nombre = datos_personales[0]\n",
        "profesion = datos_personales[3]\n",
        "print(nombre + \" es \" + profesion)\n",
        "\n",
        "#***************** \"La ciudad de [nombre de la ciudad] en [país] tiene una población de [población] habitantes\"\n",
        "\n",
        "info_ciudades = ((\"Buenos Aires\", 3000000, \"Argentina\"), (\"Madrid\", 3200000, \"España\"), (\"Tokio\", 13929286, \"Japón\"))\n",
        "\n",
        "nombredelaciudad = info_ciudades[0][0]\n",
        "pais = info_ciudades[0][2]\n",
        "poblacion = info_ciudades[0][1]\n",
        "\n",
        "print(\"La ciudad de \" + nombredelaciudad + \" en \" + pais + \" tiene una población de \" + str(poblacion) + \" habitantes\")\n",
        "nombredelaciudad = info_ciudades[1][0]\n",
        "pais = info_ciudades[1][2]\n",
        "poblacion = info_ciudades[1][1]\n",
        "\n",
        "print(\"La ciudad de \" + nombredelaciudad + \" en \" + pais + \" tiene una población de \" + str(poblacion) + \" habitantes\")\n",
        "nombredelaciudad = info_ciudades[2][0]\n",
        "pais = info_ciudades[2][2]\n",
        "poblacion = info_ciudades[2][1]\n",
        "print(\"La ciudad de \" + nombredelaciudad + \" en \" + pais + \" tiene una población de \" + str(poblacion) + \" habitantes\")\n",
        "\n",
        "#print(\"La ciudad de \" + info_ciudades[0][0] + \"en \" + info_ciudades[0][2] + \"tiene una población de \" + str(info_ciudades[0][1])\n"
      ],
      "metadata": {
        "colab": {
          "base_uri": "https://localhost:8080/"
        },
        "id": "X5QqLuKjgoJ-",
        "outputId": "48302c11-e539-40dd-d049-ec54b7023cb2"
      },
      "execution_count": 38,
      "outputs": [
        {
          "output_type": "stream",
          "name": "stdout",
          "text": [
            "2\n",
            "Maria es Ingeniera\n",
            "La ciudad de Buenos Aires en Argentina tiene una población de 3000000 habitantes\n",
            "La ciudad de Madrid en España tiene una población de 3200000 habitantes\n",
            "La ciudad de Tokio en Japón tiene una población de 13929286 habitantes\n"
          ]
        }
      ]
    },
    {
      "cell_type": "code",
      "source": [
        "#DICCIONARIOS (CLAVE VALOR) SON COLECCIONES DE ELEMENTOS CONFORMADOS POR CLAVE Y VALOR (los diccionarios no se pueden indexar, porque no están ordenados, solo se busca por su clave)\n",
        "dic = {}\n",
        "type(dic)\n"
      ],
      "metadata": {
        "colab": {
          "base_uri": "https://localhost:8080/"
        },
        "id": "Vc28tvEJkgpP",
        "outputId": "1823c7c5-cf01-454f-94d7-ec68a513389a"
      },
      "execution_count": 39,
      "outputs": [
        {
          "output_type": "execute_result",
          "data": {
            "text/plain": [
              "dict"
            ]
          },
          "metadata": {},
          "execution_count": 39
        }
      ]
    },
    {
      "cell_type": "code",
      "source": [
        "edades = {'Rolito' : 13 , 'Carlitos' : 22}\n",
        "edades\n",
        "len(edades)"
      ],
      "metadata": {
        "colab": {
          "base_uri": "https://localhost:8080/"
        },
        "id": "BbVPJnQOkrvb",
        "outputId": "f4765de8-5a8c-4add-81d1-3a9974b86d9d"
      },
      "execution_count": 2,
      "outputs": [
        {
          "output_type": "execute_result",
          "data": {
            "text/plain": [
              "2"
            ]
          },
          "metadata": {},
          "execution_count": 2
        }
      ]
    },
    {
      "cell_type": "code",
      "source": [
        "edades['Rolito'] = 25\n",
        "edades"
      ],
      "metadata": {
        "colab": {
          "base_uri": "https://localhost:8080/"
        },
        "id": "j3lStG1zDwtL",
        "outputId": "75bb2cb9-52f0-4ece-e516-4cec0a9e0841"
      },
      "execution_count": 4,
      "outputs": [
        {
          "output_type": "execute_result",
          "data": {
            "text/plain": [
              "{'Rolito': 25, 'Carlitos': 22}"
            ]
          },
          "metadata": {},
          "execution_count": 4
        }
      ]
    },
    {
      "cell_type": "code",
      "source": [
        "edades['Laura'] = 30 # Se agrega la info al diccionario\n",
        "edades"
      ],
      "metadata": {
        "colab": {
          "base_uri": "https://localhost:8080/"
        },
        "id": "i_xYijUQEF6v",
        "outputId": "5344f8f2-d716-4a98-cf4d-b8641828883c"
      },
      "execution_count": 5,
      "outputs": [
        {
          "output_type": "execute_result",
          "data": {
            "text/plain": [
              "{'Rolito': 25, 'Carlitos': 22, 'Laura': 30}"
            ]
          },
          "metadata": {},
          "execution_count": 5
        }
      ]
    },
    {
      "cell_type": "code",
      "source": [
        "edades.keys() #Muestra las claves del diccionario\n",
        "edades.values() #Muestra los valores del diccionario\n",
        "edades.items() #Muestra los items del diccionario"
      ],
      "metadata": {
        "colab": {
          "base_uri": "https://localhost:8080/"
        },
        "id": "s5aFUV--EZnI",
        "outputId": "689e9ab9-1d98-4c4b-f333-6068ee4fc225"
      },
      "execution_count": 8,
      "outputs": [
        {
          "output_type": "execute_result",
          "data": {
            "text/plain": [
              "dict_items([('Rolito', 25), ('Carlitos', 22), ('Laura', 30)])"
            ]
          },
          "metadata": {},
          "execution_count": 8
        }
      ]
    },
    {
      "cell_type": "code",
      "source": [
        "edades.get('Laura') #Muestra el valor de la clave\n",
        "edades"
      ],
      "metadata": {
        "colab": {
          "base_uri": "https://localhost:8080/"
        },
        "id": "zPDar0hBE4HN",
        "outputId": "b0d9e39e-7595-4f5c-de1d-3513c50d2d4f"
      },
      "execution_count": 10,
      "outputs": [
        {
          "output_type": "execute_result",
          "data": {
            "text/plain": [
              "{'Rolito': 25, 'Carlitos': 22, 'Laura': 30}"
            ]
          },
          "metadata": {},
          "execution_count": 10
        }
      ]
    },
    {
      "cell_type": "code",
      "source": [
        "mi_diccionario = {\"manzana\" : \"roja\", \"banana\" : \"amarilla\", \"naranja\" : \"naranja\"}\n",
        "print(mi_diccionario)"
      ],
      "metadata": {
        "colab": {
          "base_uri": "https://localhost:8080/"
        },
        "id": "oGDk8THQFja2",
        "outputId": "1a3e1913-9457-44d5-c32c-77d4bccd7cdc"
      },
      "execution_count": 9,
      "outputs": [
        {
          "output_type": "stream",
          "name": "stdout",
          "text": [
            "{'manzana': 'roja', 'banana': 'amarilla', 'naranja': 'naranja'}\n"
          ]
        }
      ]
    },
    {
      "cell_type": "code",
      "source": [
        "#ejercicio\n",
        "\n",
        "edades = {\"Juan\": 28, \"Elena\": 32, \"Marcos\": 17}\n",
        "print(edades[\"Elena\"])\n",
        "\n",
        "edades[\"Juan\"] = 29\n",
        "print(edades[\"Juan\"])\n",
        "edades[\"Luisa\"] = 25\n",
        "print(edades)"
      ],
      "metadata": {
        "colab": {
          "base_uri": "https://localhost:8080/"
        },
        "id": "DWC4zfZaIPca",
        "outputId": "fcd1f0c8-a6a8-42e1-ed60-29fbe7d21bbc"
      },
      "execution_count": 12,
      "outputs": [
        {
          "output_type": "stream",
          "name": "stdout",
          "text": [
            "32\n",
            "29\n",
            "{'Juan': 29, 'Elena': 32, 'Marcos': 17, 'Luisa': 25}\n"
          ]
        }
      ]
    }
  ]
}