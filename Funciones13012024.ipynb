{
  "nbformat": 4,
  "nbformat_minor": 0,
  "metadata": {
    "colab": {
      "provenance": [],
      "authorship_tag": "ABX9TyPmWfZI9ropeG1S4pHs6utk",
      "include_colab_link": true
    },
    "kernelspec": {
      "name": "python3",
      "display_name": "Python 3"
    },
    "language_info": {
      "name": "python"
    }
  },
  "cells": [
    {
      "cell_type": "markdown",
      "metadata": {
        "id": "view-in-github",
        "colab_type": "text"
      },
      "source": [
        "<a href=\"https://colab.research.google.com/github/yaleni/Python_2025/blob/main/Funciones13012024.ipynb\" target=\"_parent\"><img src=\"https://colab.research.google.com/assets/colab-badge.svg\" alt=\"Open In Colab\"/></a>"
      ]
    },
    {
      "cell_type": "code",
      "execution_count": 1,
      "metadata": {
        "id": "dfX97faG2XYi"
      },
      "outputs": [],
      "source": [
        "def sumar(a,b):\n",
        "  resultado = a + b\n",
        "  return resultado\n"
      ]
    },
    {
      "cell_type": "code",
      "source": [
        "numero=sumar(2, 4)"
      ],
      "metadata": {
        "id": "cZEBh1AH2eSu"
      },
      "execution_count": 2,
      "outputs": []
    },
    {
      "cell_type": "code",
      "source": [
        "numero"
      ],
      "metadata": {
        "colab": {
          "base_uri": "https://localhost:8080/"
        },
        "id": "grjxmfJU2kmM",
        "outputId": "89ffb73e-f6dd-4903-86a7-5ee410450c76"
      },
      "execution_count": 3,
      "outputs": [
        {
          "output_type": "execute_result",
          "data": {
            "text/plain": [
              "6"
            ]
          },
          "metadata": {},
          "execution_count": 3
        }
      ]
    },
    {
      "cell_type": "code",
      "source": [
        "numero * 2"
      ],
      "metadata": {
        "colab": {
          "base_uri": "https://localhost:8080/"
        },
        "id": "dB0a9jXI2meh",
        "outputId": "52b08eb0-e44d-4a03-847b-7b6c8d3a40a8"
      },
      "execution_count": 4,
      "outputs": [
        {
          "output_type": "execute_result",
          "data": {
            "text/plain": [
              "12"
            ]
          },
          "metadata": {},
          "execution_count": 4
        }
      ]
    },
    {
      "cell_type": "code",
      "source": [
        "def imprimir_pares(n):\n",
        "    for i in range(1, n + 1): # no se incluye el cero\n",
        "        if i % 2 == 0:\n",
        "            print(i)"
      ],
      "metadata": {
        "id": "qloTjKzu3LQy"
      },
      "execution_count": 12,
      "outputs": []
    },
    {
      "cell_type": "code",
      "source": [
        "imprimir_pares(10)"
      ],
      "metadata": {
        "colab": {
          "base_uri": "https://localhost:8080/"
        },
        "id": "zEwDEu-c3job",
        "outputId": "77238199-aa51-460b-f32b-ff52043c54ba"
      },
      "execution_count": 13,
      "outputs": [
        {
          "output_type": "stream",
          "name": "stdout",
          "text": [
            "2\n",
            "4\n",
            "6\n",
            "8\n",
            "10\n"
          ]
        }
      ]
    },
    {
      "cell_type": "code",
      "source": [
        "def imprimir_mensaje():\n",
        "    print(\"¡Estoy aprendiendo funciones en Python!\")\n",
        "imprimir_mensaje()"
      ],
      "metadata": {
        "colab": {
          "base_uri": "https://localhost:8080/"
        },
        "id": "9qApDReH4n6R",
        "outputId": "85f90a0e-f848-4af1-f74c-04c38a4bb30c"
      },
      "execution_count": 14,
      "outputs": [
        {
          "output_type": "stream",
          "name": "stdout",
          "text": [
            "¡Estoy aprendiendo funciones en Python!\n"
          ]
        }
      ]
    },
    {
      "cell_type": "code",
      "source": [
        "def saludar_usuario(nombre):\n",
        "   print(f\"Hola, {nombre}!\")\n",
        "saludar_usuario(\"Yaleni\")"
      ],
      "metadata": {
        "colab": {
          "base_uri": "https://localhost:8080/"
        },
        "id": "RFDgAFUa5i1q",
        "outputId": "7eb4334b-206a-4f2f-8773-d089368d1732"
      },
      "execution_count": 16,
      "outputs": [
        {
          "output_type": "stream",
          "name": "stdout",
          "text": [
            "Hola, Yaleni!\n"
          ]
        }
      ]
    },
    {
      "cell_type": "code",
      "source": [
        "def calcular_area_rectangulo(largo, ancho):\n",
        "     resultado = (largo * ancho)\n",
        "     print(resultado)\n",
        "\n",
        "\n",
        "calcular_area_rectangulo(4, 6)"
      ],
      "metadata": {
        "colab": {
          "base_uri": "https://localhost:8080/"
        },
        "id": "BWYXjxaI7SF0",
        "outputId": "f0c945c0-ba1a-461f-956c-c6b6790f7a5e"
      },
      "execution_count": 18,
      "outputs": [
        {
          "output_type": "stream",
          "name": "stdout",
          "text": [
            "24\n"
          ]
        }
      ]
    },
    {
      "cell_type": "code",
      "source": [
        "#Otra forma\n",
        "def calcular_area_rectangulo(largo, ancho):\n",
        "     return largo * ancho\n",
        "\n",
        "print(calcular_area_rectangulo(4, 6))"
      ],
      "metadata": {
        "colab": {
          "base_uri": "https://localhost:8080/"
        },
        "id": "TfVGrUNu7tfW",
        "outputId": "4ea80c67-e396-48de-d700-1e2b9c6e74a4"
      },
      "execution_count": 19,
      "outputs": [
        {
          "output_type": "stream",
          "name": "stdout",
          "text": [
            "24\n"
          ]
        }
      ]
    },
    {
      "cell_type": "code",
      "source": [
        "def pedir_nombre():\n",
        "    nombre = input(\"Dime tu nombre: \")\n",
        "    return nombre\n",
        "\n",
        "def pedir_apellido():\n",
        "    apellido = input(\"Dime tu apellido: \")\n",
        "    return apellido\n",
        "\n",
        "\n"
      ],
      "metadata": {
        "id": "lVmogWsD8NPG"
      },
      "execution_count": 53,
      "outputs": []
    },
    {
      "cell_type": "code",
      "source": [
        "def saludar():\n",
        "    saludar_usuario = f\"Hola {pedir_nombre()} {pedir_apellido()}\"\n",
        "    print(saludar_usuario)\n",
        ""
      ],
      "metadata": {
        "id": "arbHNRiI9Lkt"
      },
      "execution_count": 47,
      "outputs": []
    },
    {
      "cell_type": "code",
      "source": [
        "saludar()"
      ],
      "metadata": {
        "colab": {
          "base_uri": "https://localhost:8080/"
        },
        "id": "yp9ZPemgCEPe",
        "outputId": "685d7052-e62e-4194-f17b-06fe063f07e4"
      },
      "execution_count": 48,
      "outputs": [
        {
          "output_type": "stream",
          "name": "stdout",
          "text": [
            "Dime tu nombre: Yaleni\n",
            "Dime tu apellido: Gomez\n",
            "Hola Yaleni Gomez\n"
          ]
        }
      ]
    },
    {
      "cell_type": "code",
      "source": [
        "mi_lista = [1,2,3,4,5,6]\n",
        "\n",
        "def cuadrado(n):\n",
        "    return n * n\n",
        "\n",
        "def Calcular_lista(numeros):\n",
        "    for numero in numeros:\n",
        "        resultado = cuadrado(numero)\n",
        "        print(f\"El cuadrado de {numero} es {resultado}\")\n",
        ""
      ],
      "metadata": {
        "id": "0iFiJp6GDQh5"
      },
      "execution_count": 50,
      "outputs": []
    },
    {
      "cell_type": "code",
      "source": [
        "Calcular_lista(mi_lista)\n",
        "#"
      ],
      "metadata": {
        "colab": {
          "base_uri": "https://localhost:8080/"
        },
        "id": "q8vchJ2LRp2V",
        "outputId": "2f1a62e1-4804-4e2c-8572-559299f57027"
      },
      "execution_count": 51,
      "outputs": [
        {
          "output_type": "stream",
          "name": "stdout",
          "text": [
            "El cuadrado de 1 es 1\n",
            "El cuadrado de 2 es 4\n",
            "El cuadrado de 3 es 9\n",
            "El cuadrado de 4 es 16\n",
            "El cuadrado de 5 es 25\n",
            "El cuadrado de 6 es 36\n"
          ]
        }
      ]
    },
    {
      "cell_type": "code",
      "source": [
        "def solicitar_nombre():\n",
        "    nombre = input(\"Dime tu nombre: \")\n",
        "    return nombre\n",
        "\n",
        "def saludar():\n",
        "    saludar_usuario = f\"Hola {solicitar_nombre()}\"\n",
        "    print(saludar_usuario)\n",
        "saludar()"
      ],
      "metadata": {
        "colab": {
          "base_uri": "https://localhost:8080/"
        },
        "id": "trw1DKi1S77R",
        "outputId": "d436b318-6156-460f-e782-0ceb4bb81030"
      },
      "execution_count": 54,
      "outputs": [
        {
          "output_type": "stream",
          "name": "stdout",
          "text": [
            "Dime tu nombre: Yaleni\n",
            "Hola Yaleni\n"
          ]
        }
      ]
    },
    {
      "cell_type": "code",
      "source": [
        "def pedir_numeros():\n",
        "    num1 = int(input(\"Ingresa el 1er numero\"))\n",
        "    num2 = int(input(\"Ingresa el 2do numero\"))\n",
        "    return num1 , num2\n",
        "\n"
      ],
      "metadata": {
        "id": "5nfXr4agfrIT"
      },
      "execution_count": 56,
      "outputs": []
    },
    {
      "cell_type": "code",
      "source": [
        "def sumar():\n",
        "    num1, num2 = pedir_numeros()\n",
        "    sumar = num1 + num2\n",
        "    print (f\"La suma es {sumar}\")\n",
        ""
      ],
      "metadata": {
        "id": "LBIRyLUNfvBk"
      },
      "execution_count": 58,
      "outputs": []
    },
    {
      "cell_type": "code",
      "source": [
        "def pedir_numeros():\n",
        "    num1 = int(input(\"Ingresa el 1er numero\"))\n",
        "    num2 = int(input(\"Ingresa el 2do numero\"))\n",
        "    return num1 , num2\n",
        "\n",
        "def sumar():\n",
        "    num1, num2 = pedir_numeros()\n",
        "    resultado = num1 + num2\n",
        "    print (f\"La suma es {resultado}\")\n",
        "sumar()"
      ],
      "metadata": {
        "colab": {
          "base_uri": "https://localhost:8080/"
        },
        "id": "qEc_6H-5gN9C",
        "outputId": "332ffae6-1896-4122-bf15-3cc34f66aa1c"
      },
      "execution_count": 60,
      "outputs": [
        {
          "output_type": "stream",
          "name": "stdout",
          "text": [
            "Ingresa el 1er numero2\n",
            "Ingresa el 2do numero4\n",
            "La suma es 6\n"
          ]
        }
      ]
    },
    {
      "cell_type": "code",
      "source": [
        "def solicitar_numero():\n",
        "     num = int(input(\"Ingrese un número entero positivo: \"))\n",
        "     return num\n",
        "\n",
        "\n",
        "\n"
      ],
      "metadata": {
        "id": "AQolgNh5jXdE"
      },
      "execution_count": 1,
      "outputs": []
    },
    {
      "cell_type": "code",
      "source": [
        "def calcular_factorial(n):\n",
        "    factorial = 1\n",
        "    for i in range(1, n+1):\n",
        "        factorial *= i\n",
        "    return factorial\n",
        "\n",
        "\n"
      ],
      "metadata": {
        "id": "zze7eRrqkQci"
      },
      "execution_count": 2,
      "outputs": []
    },
    {
      "cell_type": "code",
      "source": [
        "def mostrar_resultado():\n",
        "    num = solicitar_numero()\n",
        "    factorial = calcular_factorial(num)\n",
        "    print(f\"El factorial de {num} es {factorial}\")\n",
        "\n",
        "mostrar_resultado()\n"
      ],
      "metadata": {
        "colab": {
          "base_uri": "https://localhost:8080/"
        },
        "id": "HgjmE4Ho8irf",
        "outputId": "9094a410-ab8e-440b-82ce-2180345c6873"
      },
      "execution_count": 4,
      "outputs": [
        {
          "output_type": "stream",
          "name": "stdout",
          "text": [
            "Ingrese un número entero positivo: 6\n",
            "El factorial de 6 es 720\n"
          ]
        }
      ]
    },
    {
      "cell_type": "code",
      "source": [
        "#Generar tablas\n",
        "def generar_tabla(numero, limite):\n",
        "    for i in range(1, limite + 1):\n",
        "        print(f\"{numero} x {i} = {numero * i}\")\n"
      ],
      "metadata": {
        "id": "Acxn9SuNKhRW"
      },
      "execution_count": 6,
      "outputs": []
    },
    {
      "cell_type": "code",
      "source": [
        "#Funcion principal\n",
        "def inicio():\n",
        "    while True:\n",
        "        print(\"\\n 1. Generar tabla \\n\")\n",
        "        num    = int(input(\"Ingrese un numero: \"))\n",
        "        lim = int(input(\"Ingrese el limite de la tabla: \"))\n",
        "\n",
        "        generar_tabla(num, lim)\n",
        "        otra = input(\"¿Desea generar otra tabla? (s/n): \")\n",
        "        if otra.lower() != \"s\":\n",
        "            break\n",
        "inicio()"
      ],
      "metadata": {
        "colab": {
          "base_uri": "https://localhost:8080/"
        },
        "id": "_Bj4nIxCLyoo",
        "outputId": "c9a6bc55-8baf-4bd3-f31b-3b1680f7faa1"
      },
      "execution_count": 8,
      "outputs": [
        {
          "name": "stdout",
          "output_type": "stream",
          "text": [
            "\n",
            " 1. Generar tabla \n",
            "\n",
            "Ingrese un numero: 2\n",
            "Ingrese el limite de la tabla: 5\n",
            "2 x 1 = 2\n",
            "2 x 2 = 4\n",
            "2 x 3 = 6\n",
            "2 x 4 = 8\n",
            "2 x 5 = 10\n",
            "¿Desea generar otra tabla? (s/n): n\n"
          ]
        }
      ]
    },
    {
      "cell_type": "code",
      "source": [
        "#Crear tabla de multiplcar aplicando pregunta si desea continuar\n",
        "consultar = input(\"Deseas continuar multiplicando Si= S No= N\")\n",
        "while upper.(consultar) == \"S\":\n",
        "\n",
        " def pedir_numeros():\n",
        "    num1 = int(input(\"Ingresa numero que deseaas multiplicar\"))\n",
        "    num2 = int(input(\"Ingresa el limite que se va a multiplicar el numero\"))\n",
        "    return num1 , num2\n",
        "\n",
        " def multiplicar():\n",
        "    for num1 in range(1, num2):\n",
        "        num2 = int(input(\"Ingresa el limite que se va a multiplicar el numero\"))\n",
        "        resultado = num1 * num2\n",
        "        print (f\"La multiplicacion es {resultado}\")\n",
        "\n",
        " multiplicar()\n",
        "\n"
      ],
      "metadata": {
        "colab": {
          "base_uri": "https://localhost:8080/",
          "height": 109
        },
        "id": "s8u74AJ69mBe",
        "outputId": "7e315596-557d-4e58-8af5-52d4cde404c7"
      },
      "execution_count": 5,
      "outputs": [
        {
          "output_type": "error",
          "ename": "SyntaxError",
          "evalue": "expected ':' (<ipython-input-5-2ce8f444a2ca>, line 3)",
          "traceback": [
            "\u001b[0;36m  File \u001b[0;32m\"<ipython-input-5-2ce8f444a2ca>\"\u001b[0;36m, line \u001b[0;32m3\u001b[0m\n\u001b[0;31m    while consultar !=0\u001b[0m\n\u001b[0m                       ^\u001b[0m\n\u001b[0;31mSyntaxError\u001b[0m\u001b[0;31m:\u001b[0m expected ':'\n"
          ]
        }
      ]
    },
    {
      "cell_type": "code",
      "source": [
        "def solicitar_numero():\n",
        "    n = int(input(\"Ingrese un número entero positivo: \"))\n",
        "    return num1\n",
        "\n",
        "def calcular_factorial(n):\n",
        "    num=1\n",
        "    for num <= n:\n",
        "        factorial = num * num\n",
        "        suma = suma + factorial\n",
        "def mostrar_resultado():\n",
        "    num = solicitar_numero()\n",
        "    factorial = calcular_factorial(num)\n",
        "    print(f\"El factorial de {num} es {factorial}\")"
      ],
      "metadata": {
        "colab": {
          "base_uri": "https://localhost:8080/",
          "height": 109
        },
        "id": "qUNfF6SgjFEV",
        "outputId": "a2934461-c39d-4d13-99f6-b0ec33202bd6"
      },
      "execution_count": 61,
      "outputs": [
        {
          "output_type": "error",
          "ename": "SyntaxError",
          "evalue": "invalid syntax (<ipython-input-61-1d64f1101486>, line 7)",
          "traceback": [
            "\u001b[0;36m  File \u001b[0;32m\"<ipython-input-61-1d64f1101486>\"\u001b[0;36m, line \u001b[0;32m7\u001b[0m\n\u001b[0;31m    for num <= n:\u001b[0m\n\u001b[0m            ^\u001b[0m\n\u001b[0;31mSyntaxError\u001b[0m\u001b[0;31m:\u001b[0m invalid syntax\n"
          ]
        }
      ]
    }
  ]
}