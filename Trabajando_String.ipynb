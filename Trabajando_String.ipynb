{
  "nbformat": 4,
  "nbformat_minor": 0,
  "metadata": {
    "colab": {
      "provenance": [],
      "authorship_tag": "ABX9TyPhtn2ar651WMSjIKLe5bcM",
      "include_colab_link": true
    },
    "kernelspec": {
      "name": "python3",
      "display_name": "Python 3"
    },
    "language_info": {
      "name": "python"
    }
  },
  "cells": [
    {
      "cell_type": "markdown",
      "metadata": {
        "id": "view-in-github",
        "colab_type": "text"
      },
      "source": [
        "<a href=\"https://colab.research.google.com/github/yaleni/Python_2025/blob/main/Trabajando_String.ipynb\" target=\"_parent\"><img src=\"https://colab.research.google.com/assets/colab-badge.svg\" alt=\"Open In Colab\"/></a>"
      ]
    },
    {
      "cell_type": "code",
      "execution_count": null,
      "metadata": {
        "id": "4NJbzkzEIMLz"
      },
      "outputs": [],
      "source": [
        "#Archivo con string"
      ]
    },
    {
      "cell_type": "code",
      "source": [
        "palabra ='Manzana'"
      ],
      "metadata": {
        "id": "HjZtQIwTTZaX"
      },
      "execution_count": 1,
      "outputs": []
    },
    {
      "cell_type": "code",
      "source": [
        "palabra.capitalize()"
      ],
      "metadata": {
        "colab": {
          "base_uri": "https://localhost:8080/",
          "height": 35
        },
        "id": "NSzXrdNpTfrF",
        "outputId": "d02979fe-aec0-491b-d6b4-c3b0cf981f93"
      },
      "execution_count": 2,
      "outputs": [
        {
          "output_type": "execute_result",
          "data": {
            "text/plain": [
              "'Manzana'"
            ],
            "application/vnd.google.colaboratory.intrinsic+json": {
              "type": "string"
            }
          },
          "metadata": {},
          "execution_count": 2
        }
      ]
    },
    {
      "cell_type": "code",
      "source": [
        "str.capitalize(palabra)"
      ],
      "metadata": {
        "colab": {
          "base_uri": "https://localhost:8080/",
          "height": 35
        },
        "id": "lzkCFQwxTmFs",
        "outputId": "2360d4d2-21b7-414e-dbf6-1f341e210be0"
      },
      "execution_count": 3,
      "outputs": [
        {
          "output_type": "execute_result",
          "data": {
            "text/plain": [
              "'Manzana'"
            ],
            "application/vnd.google.colaboratory.intrinsic+json": {
              "type": "string"
            }
          },
          "metadata": {},
          "execution_count": 3
        }
      ]
    },
    {
      "cell_type": "code",
      "source": [
        "palabra ='hola'\n",
        "palabra.upper()\n",
        "palabra_may = 'como estas'\n",
        "palabra_may.upper()"
      ],
      "metadata": {
        "colab": {
          "base_uri": "https://localhost:8080/",
          "height": 35
        },
        "id": "UINW-1QjVoqM",
        "outputId": "ec0d5ef6-ccec-4cfa-e748-c2a070d7366c"
      },
      "execution_count": 7,
      "outputs": [
        {
          "output_type": "execute_result",
          "data": {
            "text/plain": [
              "'COMO ESTAS'"
            ],
            "application/vnd.google.colaboratory.intrinsic+json": {
              "type": "string"
            }
          },
          "metadata": {},
          "execution_count": 7
        }
      ]
    },
    {
      "cell_type": "code",
      "source": [
        "#Ejercicio 2\n",
        "x ='hola'\n",
        "py = palabra.upper()\n",
        "print(py)"
      ],
      "metadata": {
        "colab": {
          "base_uri": "https://localhost:8080/"
        },
        "id": "wafnglbPXUEn",
        "outputId": "4c4349e5-b9bb-4a15-8659-05b7303b5c73"
      },
      "execution_count": 9,
      "outputs": [
        {
          "output_type": "stream",
          "name": "stdout",
          "text": [
            "HOLA\n"
          ]
        }
      ]
    },
    {
      "cell_type": "code",
      "source": [
        "string1 = \"aprender\"\n",
        "string2 = \"python\"\n",
        "resultado = string1.capitalize() + ' ' + string2.capitalize()\n",
        "print(resultado)"
      ],
      "metadata": {
        "colab": {
          "base_uri": "https://localhost:8080/"
        },
        "id": "qCcuNG3iYa2T",
        "outputId": "ed3c2c9d-51d6-4033-e47a-e02cf4984419"
      },
      "execution_count": 11,
      "outputs": [
        {
          "output_type": "stream",
          "name": "stdout",
          "text": [
            "Aprender Python\n"
          ]
        }
      ]
    },
    {
      "cell_type": "code",
      "source": [
        "string1 = \"aprender\"\n",
        "string2 = \"python\"\n",
        "resultado = str.capitalize(string1) + ' ' + str.capitalize(string2)\n",
        "print(resultado)"
      ],
      "metadata": {
        "colab": {
          "base_uri": "https://localhost:8080/"
        },
        "id": "pVf_kt0JYgSf",
        "outputId": "2a9fa818-c27d-451b-b995-081453c322b6"
      },
      "execution_count": 12,
      "outputs": [
        {
          "output_type": "stream",
          "name": "stdout",
          "text": [
            "Aprender Python\n"
          ]
        }
      ]
    },
    {
      "cell_type": "code",
      "source": [
        "#modificar texto\n",
        "frase = \"Python es divertido\"\n",
        "frase = frase.replace('divertido','genial')\n",
        "print(frase)"
      ],
      "metadata": {
        "colab": {
          "base_uri": "https://localhost:8080/"
        },
        "id": "VA54uf1zZhSA",
        "outputId": "e48b1266-1cd1-4765-b220-a6b9054567e4"
      },
      "execution_count": 13,
      "outputs": [
        {
          "output_type": "stream",
          "name": "stdout",
          "text": [
            "Python es genial\n"
          ]
        }
      ]
    },
    {
      "cell_type": "code",
      "source": [
        "#Indexación\n",
        "frase1 = 'Pomelo'\n",
        "frase1[0]\n",
        "frase1[1]\n",
        "frase1[2]\n",
        "frase1[3]\n",
        "frase1[4]\n",
        "frase1[5]\n",
        "frase1[-2]\n",
        "frase1[1:3]"
      ],
      "metadata": {
        "colab": {
          "base_uri": "https://localhost:8080/",
          "height": 35
        },
        "id": "xFQffTO5ZtPF",
        "outputId": "e27d929a-306c-4e42-9f30-20f3034f4bc4"
      },
      "execution_count": 22,
      "outputs": [
        {
          "output_type": "execute_result",
          "data": {
            "text/plain": [
              "'om'"
            ],
            "application/vnd.google.colaboratory.intrinsic+json": {
              "type": "string"
            }
          },
          "metadata": {},
          "execution_count": 22
        }
      ]
    },
    {
      "cell_type": "code",
      "source": [
        "frase2 = 'Casita_Azul'\n",
        "frase2[0:8:2]\n",
        "frase2[::2].upper()"
      ],
      "metadata": {
        "colab": {
          "base_uri": "https://localhost:8080/",
          "height": 35
        },
        "id": "WdYqPhnVd1nN",
        "outputId": "cb1d51d3-d847-4505-ad84-0906d312355c"
      },
      "execution_count": 36,
      "outputs": [
        {
          "output_type": "execute_result",
          "data": {
            "text/plain": [
              "'CST_ZL'"
            ],
            "application/vnd.google.colaboratory.intrinsic+json": {
              "type": "string"
            }
          },
          "metadata": {},
          "execution_count": 36
        }
      ]
    }
  ]
}