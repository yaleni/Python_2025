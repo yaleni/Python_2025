{
  "nbformat": 4,
  "nbformat_minor": 0,
  "metadata": {
    "colab": {
      "provenance": [],
      "authorship_tag": "ABX9TyP9MVXBCN8MKoMyI61JXLuD",
      "include_colab_link": true
    },
    "kernelspec": {
      "name": "python3",
      "display_name": "Python 3"
    },
    "language_info": {
      "name": "python"
    }
  },
  "cells": [
    {
      "cell_type": "markdown",
      "metadata": {
        "id": "view-in-github",
        "colab_type": "text"
      },
      "source": [
        "<a href=\"https://colab.research.google.com/github/yaleni/Python_2025/blob/main/Trabajando_String.ipynb\" target=\"_parent\"><img src=\"https://colab.research.google.com/assets/colab-badge.svg\" alt=\"Open In Colab\"/></a>"
      ]
    },
    {
      "cell_type": "code",
      "execution_count": null,
      "metadata": {
        "id": "4NJbzkzEIMLz"
      },
      "outputs": [],
      "source": [
        "#Archivo con string"
      ]
    },
    {
      "cell_type": "code",
      "source": [],
      "metadata": {
        "id": "vtkTXlzSr2eS"
      },
      "execution_count": null,
      "outputs": []
    },
    {
      "cell_type": "code",
      "source": [],
      "metadata": {
        "id": "bZ1qqBvtr3xo"
      },
      "execution_count": null,
      "outputs": []
    },
    {
      "cell_type": "code",
      "source": [
        "palabra ='Manzana'"
      ],
      "metadata": {
        "id": "HjZtQIwTTZaX"
      },
      "execution_count": null,
      "outputs": []
    },
    {
      "cell_type": "code",
      "source": [
        "palabra.capitalize()"
      ],
      "metadata": {
        "colab": {
          "base_uri": "https://localhost:8080/",
          "height": 35
        },
        "id": "NSzXrdNpTfrF",
        "outputId": "d02979fe-aec0-491b-d6b4-c3b0cf981f93"
      },
      "execution_count": null,
      "outputs": [
        {
          "output_type": "execute_result",
          "data": {
            "text/plain": [
              "'Manzana'"
            ],
            "application/vnd.google.colaboratory.intrinsic+json": {
              "type": "string"
            }
          },
          "metadata": {},
          "execution_count": 2
        }
      ]
    },
    {
      "cell_type": "code",
      "source": [
        "str.capitalize(palabra)"
      ],
      "metadata": {
        "colab": {
          "base_uri": "https://localhost:8080/",
          "height": 35
        },
        "id": "lzkCFQwxTmFs",
        "outputId": "2360d4d2-21b7-414e-dbf6-1f341e210be0"
      },
      "execution_count": null,
      "outputs": [
        {
          "output_type": "execute_result",
          "data": {
            "text/plain": [
              "'Manzana'"
            ],
            "application/vnd.google.colaboratory.intrinsic+json": {
              "type": "string"
            }
          },
          "metadata": {},
          "execution_count": 3
        }
      ]
    },
    {
      "cell_type": "code",
      "source": [
        "palabra ='hola'\n",
        "palabra.upper()\n",
        "palabra_may = 'como estas'\n",
        "palabra_may.upper()"
      ],
      "metadata": {
        "colab": {
          "base_uri": "https://localhost:8080/",
          "height": 35
        },
        "id": "UINW-1QjVoqM",
        "outputId": "ec0d5ef6-ccec-4cfa-e748-c2a070d7366c"
      },
      "execution_count": null,
      "outputs": [
        {
          "output_type": "execute_result",
          "data": {
            "text/plain": [
              "'COMO ESTAS'"
            ],
            "application/vnd.google.colaboratory.intrinsic+json": {
              "type": "string"
            }
          },
          "metadata": {},
          "execution_count": 7
        }
      ]
    },
    {
      "cell_type": "code",
      "source": [
        "#Ejercicio 2\n",
        "x ='hola'\n",
        "py = palabra.upper()\n",
        "print(py)"
      ],
      "metadata": {
        "colab": {
          "base_uri": "https://localhost:8080/"
        },
        "id": "wafnglbPXUEn",
        "outputId": "4c4349e5-b9bb-4a15-8659-05b7303b5c73"
      },
      "execution_count": null,
      "outputs": [
        {
          "output_type": "stream",
          "name": "stdout",
          "text": [
            "HOLA\n"
          ]
        }
      ]
    },
    {
      "cell_type": "code",
      "source": [
        "string1 = \"aprender\"\n",
        "string2 = \"python\"\n",
        "resultado = string1.capitalize() + ' ' + string2.capitalize()\n",
        "print(resultado)"
      ],
      "metadata": {
        "colab": {
          "base_uri": "https://localhost:8080/"
        },
        "id": "qCcuNG3iYa2T",
        "outputId": "ed3c2c9d-51d6-4033-e47a-e02cf4984419"
      },
      "execution_count": null,
      "outputs": [
        {
          "output_type": "stream",
          "name": "stdout",
          "text": [
            "Aprender Python\n"
          ]
        }
      ]
    },
    {
      "cell_type": "code",
      "source": [
        "string1 = \"aprender\"\n",
        "string2 = \"python\"\n",
        "resultado = str.capitalize(string1) + ' ' + str.capitalize(string2)\n",
        "print(resultado)"
      ],
      "metadata": {
        "colab": {
          "base_uri": "https://localhost:8080/"
        },
        "id": "pVf_kt0JYgSf",
        "outputId": "2a9fa818-c27d-451b-b995-081453c322b6"
      },
      "execution_count": null,
      "outputs": [
        {
          "output_type": "stream",
          "name": "stdout",
          "text": [
            "Aprender Python\n"
          ]
        }
      ]
    },
    {
      "cell_type": "code",
      "source": [
        "#modificar texto\n",
        "frase = \"Python es divertido\"\n",
        "frase = frase.replace('divertido','genial')\n",
        "print(frase)"
      ],
      "metadata": {
        "colab": {
          "base_uri": "https://localhost:8080/"
        },
        "id": "VA54uf1zZhSA",
        "outputId": "e48b1266-1cd1-4765-b220-a6b9054567e4"
      },
      "execution_count": null,
      "outputs": [
        {
          "output_type": "stream",
          "name": "stdout",
          "text": [
            "Python es genial\n"
          ]
        }
      ]
    },
    {
      "cell_type": "code",
      "source": [
        "#Indexación\n",
        "frase1 = 'Pomelo'\n",
        "frase1[0]\n",
        "frase1[1]\n",
        "frase1[2]\n",
        "frase1[3]\n",
        "frase1[4]\n",
        "frase1[5]\n",
        "frase1[-2]\n",
        "frase1[1:3]"
      ],
      "metadata": {
        "colab": {
          "base_uri": "https://localhost:8080/",
          "height": 35
        },
        "id": "xFQffTO5ZtPF",
        "outputId": "e27d929a-306c-4e42-9f30-20f3034f4bc4"
      },
      "execution_count": null,
      "outputs": [
        {
          "output_type": "execute_result",
          "data": {
            "text/plain": [
              "'om'"
            ],
            "application/vnd.google.colaboratory.intrinsic+json": {
              "type": "string"
            }
          },
          "metadata": {},
          "execution_count": 22
        }
      ]
    },
    {
      "cell_type": "code",
      "source": [
        "frase2 = 'Casita_Azul'\n",
        "frase2[0:8:2]\n",
        "frase2[::2].upper()"
      ],
      "metadata": {
        "colab": {
          "base_uri": "https://localhost:8080/",
          "height": 35
        },
        "id": "WdYqPhnVd1nN",
        "outputId": "cb1d51d3-d847-4505-ad84-0906d312355c"
      },
      "execution_count": null,
      "outputs": [
        {
          "output_type": "execute_result",
          "data": {
            "text/plain": [
              "'CST_ZL'"
            ],
            "application/vnd.google.colaboratory.intrinsic+json": {
              "type": "string"
            }
          },
          "metadata": {},
          "execution_count": 36
        }
      ]
    },
    {
      "cell_type": "code",
      "source": [
        "palabra = \"computadora\"\n",
        "palabra[4:5]\n",
        "palabra1 = \"computadora\"\n",
        "palabra1[4:5:5]\n",
        "\n",
        "palabra = \"computadora\"\n",
        "print(palabra[4:5].upper())"
      ],
      "metadata": {
        "colab": {
          "base_uri": "https://localhost:8080/"
        },
        "id": "PaDWudolfaO8",
        "outputId": "1cef83da-3c20-469b-da58-14e640917b51"
      },
      "execution_count": null,
      "outputs": [
        {
          "output_type": "stream",
          "name": "stdout",
          "text": [
            "U\n"
          ]
        }
      ]
    },
    {
      "cell_type": "code",
      "source": [],
      "metadata": {
        "id": "ukg48GWJj84T"
      },
      "execution_count": null,
      "outputs": []
    },
    {
      "cell_type": "code",
      "source": [
        "palabra = \"computadora\"\n",
        "print(palabra[5:9])"
      ],
      "metadata": {
        "colab": {
          "base_uri": "https://localhost:8080/"
        },
        "id": "Wx29wzh6hE_z",
        "outputId": "fff547aa-9b07-4289-ec4a-9c8ae192cd5d"
      },
      "execution_count": null,
      "outputs": [
        {
          "output_type": "stream",
          "name": "stdout",
          "text": [
            "tado\n"
          ]
        }
      ]
    },
    {
      "cell_type": "code",
      "source": [
        "palabra = \"aventura\"\n",
        "print(palabra[1:6:2].upper())"
      ],
      "metadata": {
        "colab": {
          "base_uri": "https://localhost:8080/"
        },
        "id": "JEybok83h43Q",
        "outputId": "75bd999c-3b87-411d-8427-2835ca308830"
      },
      "execution_count": null,
      "outputs": [
        {
          "output_type": "stream",
          "name": "stdout",
          "text": [
            "VNU\n"
          ]
        }
      ]
    },
    {
      "cell_type": "code",
      "source": [
        "#CONTAR PALABRAS STRING\n",
        "palabra2 = 'banana'\n",
        "type(palabra2)\n",
        "help(palabra2.count)\n",
        "palabra2.count('a')"
      ],
      "metadata": {
        "colab": {
          "base_uri": "https://localhost:8080/"
        },
        "id": "uFw9OCAHiJvc",
        "outputId": "2b1fd02b-87bf-4b92-e78a-97b21a829606"
      },
      "execution_count": null,
      "outputs": [
        {
          "output_type": "stream",
          "name": "stdout",
          "text": [
            "Help on built-in function count:\n",
            "\n",
            "count(...) method of builtins.str instance\n",
            "    S.count(sub[, start[, end]]) -> int\n",
            "    \n",
            "    Return the number of non-overlapping occurrences of substring sub in\n",
            "    string S[start:end].  Optional arguments start and end are\n",
            "    interpreted as in slice notation.\n",
            "\n"
          ]
        },
        {
          "output_type": "execute_result",
          "data": {
            "text/plain": [
              "3"
            ]
          },
          "metadata": {},
          "execution_count": 56
        }
      ]
    },
    {
      "cell_type": "code",
      "source": [
        "#Contar espacios dentro de una frase, con el metodo strip quita los espacios que estan al comienzo y al final\n",
        "\n",
        "frase = ' Hola como estas '\n",
        "print(frase.strip().count(\" \") + 1)"
      ],
      "metadata": {
        "colab": {
          "base_uri": "https://localhost:8080/"
        },
        "id": "NwopZMoPjCMj",
        "outputId": "901114aa-feb1-455b-b148-fddeae0758ee"
      },
      "execution_count": null,
      "outputs": [
        {
          "output_type": "stream",
          "name": "stdout",
          "text": [
            "3\n"
          ]
        }
      ]
    },
    {
      "cell_type": "code",
      "source": [
        "#split\n",
        "frase = ' Hola como estas '\n",
        "frase.strip().split()"
      ],
      "metadata": {
        "colab": {
          "base_uri": "https://localhost:8080/"
        },
        "id": "f3W7Emqaj94T",
        "outputId": "c42d1cc2-f6e8-4f1d-d6aa-074af182ac73"
      },
      "execution_count": null,
      "outputs": [
        {
          "output_type": "execute_result",
          "data": {
            "text/plain": [
              "['Hola', 'como', 'estas']"
            ]
          },
          "metadata": {},
          "execution_count": 64
        }
      ]
    },
    {
      "cell_type": "code",
      "source": [
        "palabra = \"computadora\"\n",
        "letra = \"a\"\n",
        "print(palabra.count(letra))"
      ],
      "metadata": {
        "colab": {
          "base_uri": "https://localhost:8080/"
        },
        "id": "Yj5fNiyIk4ms",
        "outputId": "446e03a7-91c1-4bdb-ef1a-baf58c947d9e"
      },
      "execution_count": null,
      "outputs": [
        {
          "output_type": "stream",
          "name": "stdout",
          "text": [
            "2\n"
          ]
        }
      ]
    },
    {
      "cell_type": "code",
      "source": [
        "frase = \"Hoy es un dia especial\"\n",
        "frase.strip().split()\n",
        "frase2 = \"Hoy es un dia especial\"\n",
        "print(frase.strip().split())"
      ],
      "metadata": {
        "colab": {
          "base_uri": "https://localhost:8080/"
        },
        "id": "Kr7jaVCVlqXw",
        "outputId": "ad61f1b6-e3d5-4f14-81d8-e0dc099ac555"
      },
      "execution_count": null,
      "outputs": [
        {
          "output_type": "stream",
          "name": "stdout",
          "text": [
            "['Hoy', 'es', 'un', 'dia', 'especial']\n"
          ]
        }
      ]
    },
    {
      "cell_type": "code",
      "source": [
        "frase = \" Python es genial \"\n",
        "palabras_en_frase = frase.strip().split()\n",
        "print(palabras_en_frase)\n",
        "\n",
        "frase2 = \" Python es genial \"\n",
        "palabras_en_frase = frase2.strip().count(\" \") + 1\n",
        "print(palabras_en_frase)"
      ],
      "metadata": {
        "colab": {
          "base_uri": "https://localhost:8080/"
        },
        "id": "5ddtDdALmw-I",
        "outputId": "d809b76f-9e8c-4842-bb2c-d9881abfb385"
      },
      "execution_count": null,
      "outputs": [
        {
          "output_type": "stream",
          "name": "stdout",
          "text": [
            "['Python', 'es', 'genial']\n",
            "3\n"
          ]
        }
      ]
    },
    {
      "cell_type": "code",
      "source": [
        "#TRABAJANDO CON INPUT y variables\n",
        "input('Ingresa tu nombre: ')"
      ],
      "metadata": {
        "colab": {
          "base_uri": "https://localhost:8080/",
          "height": 52
        },
        "id": "oRrTVMEAr5zz",
        "outputId": "ed161821-2ae6-4670-da9d-64145bc1225e"
      },
      "execution_count": 2,
      "outputs": [
        {
          "name": "stdout",
          "output_type": "stream",
          "text": [
            "Ingresa tu nombre: Yale\n"
          ]
        },
        {
          "output_type": "execute_result",
          "data": {
            "text/plain": [
              "'Yale'"
            ],
            "application/vnd.google.colaboratory.intrinsic+json": {
              "type": "string"
            }
          },
          "metadata": {},
          "execution_count": 2
        }
      ]
    },
    {
      "cell_type": "code",
      "source": [
        "#input y variables\n",
        "nombre = input('Ingresa tu nombre: ')\n",
        "print('Hola ' + nombre)\n",
        "edad = int(input(\"Ingresa tu edad: \"))\n",
        "#print('Tu edad es ' + edad)"
      ],
      "metadata": {
        "colab": {
          "base_uri": "https://localhost:8080/"
        },
        "id": "hRW6-2DpsVkT",
        "outputId": "c0ac2e94-8861-4338-b2d2-03dad94991c9"
      },
      "execution_count": 5,
      "outputs": [
        {
          "name": "stdout",
          "output_type": "stream",
          "text": [
            "Ingresa tu nombre: Yale\n",
            "Hola Yale\n",
            "Ingresa tu edad: 10\n"
          ]
        }
      ]
    },
    {
      "cell_type": "code",
      "source": [
        "#solicitar datos al usuari\n",
        "\n",
        "a = int(input('Ingresa un numero: '))\n",
        "b = int(input('Ingresa otro numero: '))\n",
        "suma = a +b\n",
        "print('La suma es: ' + str(suma))\n"
      ],
      "metadata": {
        "colab": {
          "base_uri": "https://localhost:8080/"
        },
        "id": "LQQ3QCiDtl5h",
        "outputId": "32d5486d-b247-422d-d871-48da3548843b"
      },
      "execution_count": 7,
      "outputs": [
        {
          "output_type": "stream",
          "name": "stdout",
          "text": [
            "Ingresa un numero: 4\n",
            "Ingresa otro numero: 3\n",
            "La suma es: 7\n"
          ]
        }
      ]
    },
    {
      "cell_type": "code",
      "source": [
        "nacimiento = int((input(\"Ingresar año de nacimientos:\"))) + 1\n",
        "print(str(nacimiento))"
      ],
      "metadata": {
        "colab": {
          "base_uri": "https://localhost:8080/"
        },
        "id": "nWXdyDPUvPDx",
        "outputId": "015c912d-a46e-4652-dfe2-abbe21c7a509"
      },
      "execution_count": 9,
      "outputs": [
        {
          "output_type": "stream",
          "name": "stdout",
          "text": [
            "Ingresar año de nacimientos:1974\n",
            "1975\n"
          ]
        }
      ]
    },
    {
      "cell_type": "code",
      "source": [
        "nacimiento = input(\"Ingresar año de nacimientos:\")\n",
        "nacimiento = int(nacimiento)\n",
        "nacimiento = nacimiento + 1\n",
        "print(str(nacimiento))"
      ],
      "metadata": {
        "colab": {
          "base_uri": "https://localhost:8080/"
        },
        "id": "2SrNPe0qxmrO",
        "outputId": "0cfc3996-8d72-43e4-fce3-5407b94698fe"
      },
      "execution_count": 10,
      "outputs": [
        {
          "output_type": "stream",
          "name": "stdout",
          "text": [
            "Ingresar año de nacimientos:1980\n",
            "1981\n"
          ]
        }
      ]
    },
    {
      "cell_type": "code",
      "source": [
        "millas = int(input(\"Cantidad de kilometros a convertir en millas:\"))\n",
        "millas = millas * 0.621371\n",
        "print(millas)"
      ],
      "metadata": {
        "colab": {
          "base_uri": "https://localhost:8080/"
        },
        "id": "fOsi2zoL4SoF",
        "outputId": "f0dbb434-d6d7-4d7a-e69c-74bd9cded0b3"
      },
      "execution_count": 11,
      "outputs": [
        {
          "output_type": "stream",
          "name": "stdout",
          "text": [
            "Cantidad de kilometros a convertir en millas:2\n",
            "1.242742\n"
          ]
        }
      ]
    },
    {
      "cell_type": "code",
      "source": [
        "km = float(input(\"Introduce la cantidad de Kilómetros recorridos: \"))\n",
        "millas = km * 0.621371\n",
        "print(millas)"
      ],
      "metadata": {
        "colab": {
          "base_uri": "https://localhost:8080/"
        },
        "id": "N3Jzi8KN5III",
        "outputId": "79053556-81db-4b50-daff-3c429133d394"
      },
      "execution_count": 12,
      "outputs": [
        {
          "output_type": "stream",
          "name": "stdout",
          "text": [
            "Introduce la cantidad de Kilómetros recorridos: 4.5\n",
            "2.7961695\n"
          ]
        }
      ]
    }
  ]
}