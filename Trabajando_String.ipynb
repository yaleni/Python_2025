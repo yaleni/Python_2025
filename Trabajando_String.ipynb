{
  "nbformat": 4,
  "nbformat_minor": 0,
  "metadata": {
    "colab": {
      "provenance": [],
      "authorship_tag": "ABX9TyPS/AVqph7HcMC3kEwJroqA",
      "include_colab_link": true
    },
    "kernelspec": {
      "name": "python3",
      "display_name": "Python 3"
    },
    "language_info": {
      "name": "python"
    }
  },
  "cells": [
    {
      "cell_type": "markdown",
      "metadata": {
        "id": "view-in-github",
        "colab_type": "text"
      },
      "source": [
        "<a href=\"https://colab.research.google.com/github/yaleni/Python_2025/blob/main/Trabajando_String.ipynb\" target=\"_parent\"><img src=\"https://colab.research.google.com/assets/colab-badge.svg\" alt=\"Open In Colab\"/></a>"
      ]
    },
    {
      "cell_type": "code",
      "execution_count": null,
      "metadata": {
        "id": "4NJbzkzEIMLz"
      },
      "outputs": [],
      "source": [
        "#Archivo con string"
      ]
    },
    {
      "cell_type": "code",
      "source": [
        "palabra ='Manzana'"
      ],
      "metadata": {
        "id": "HjZtQIwTTZaX"
      },
      "execution_count": 1,
      "outputs": []
    },
    {
      "cell_type": "code",
      "source": [
        "palabra.capitalize()"
      ],
      "metadata": {
        "colab": {
          "base_uri": "https://localhost:8080/",
          "height": 35
        },
        "id": "NSzXrdNpTfrF",
        "outputId": "d02979fe-aec0-491b-d6b4-c3b0cf981f93"
      },
      "execution_count": 2,
      "outputs": [
        {
          "output_type": "execute_result",
          "data": {
            "text/plain": [
              "'Manzana'"
            ],
            "application/vnd.google.colaboratory.intrinsic+json": {
              "type": "string"
            }
          },
          "metadata": {},
          "execution_count": 2
        }
      ]
    },
    {
      "cell_type": "code",
      "source": [
        "str.capitalize(palabra)"
      ],
      "metadata": {
        "colab": {
          "base_uri": "https://localhost:8080/",
          "height": 35
        },
        "id": "lzkCFQwxTmFs",
        "outputId": "2360d4d2-21b7-414e-dbf6-1f341e210be0"
      },
      "execution_count": 3,
      "outputs": [
        {
          "output_type": "execute_result",
          "data": {
            "text/plain": [
              "'Manzana'"
            ],
            "application/vnd.google.colaboratory.intrinsic+json": {
              "type": "string"
            }
          },
          "metadata": {},
          "execution_count": 3
        }
      ]
    },
    {
      "cell_type": "code",
      "source": [
        "palabra ='hola'\n",
        "palabra.upper()\n",
        "palabra_may = 'como estas'\n",
        "palabra_may.upper()"
      ],
      "metadata": {
        "colab": {
          "base_uri": "https://localhost:8080/",
          "height": 35
        },
        "id": "UINW-1QjVoqM",
        "outputId": "ec0d5ef6-ccec-4cfa-e748-c2a070d7366c"
      },
      "execution_count": 7,
      "outputs": [
        {
          "output_type": "execute_result",
          "data": {
            "text/plain": [
              "'COMO ESTAS'"
            ],
            "application/vnd.google.colaboratory.intrinsic+json": {
              "type": "string"
            }
          },
          "metadata": {},
          "execution_count": 7
        }
      ]
    },
    {
      "cell_type": "code",
      "source": [
        "#Ejercicio 2\n",
        "x ='hola'\n",
        "py = palabra.upper()\n",
        "print(py)"
      ],
      "metadata": {
        "colab": {
          "base_uri": "https://localhost:8080/"
        },
        "id": "wafnglbPXUEn",
        "outputId": "4c4349e5-b9bb-4a15-8659-05b7303b5c73"
      },
      "execution_count": 9,
      "outputs": [
        {
          "output_type": "stream",
          "name": "stdout",
          "text": [
            "HOLA\n"
          ]
        }
      ]
    },
    {
      "cell_type": "code",
      "source": [
        "string1 = \"aprender\"\n",
        "string2 = \"python\"\n",
        "resultado = string1.capitalize() + ' ' + string2.capitalize()\n",
        "print(resultado)"
      ],
      "metadata": {
        "colab": {
          "base_uri": "https://localhost:8080/"
        },
        "id": "qCcuNG3iYa2T",
        "outputId": "ed3c2c9d-51d6-4033-e47a-e02cf4984419"
      },
      "execution_count": 11,
      "outputs": [
        {
          "output_type": "stream",
          "name": "stdout",
          "text": [
            "Aprender Python\n"
          ]
        }
      ]
    },
    {
      "cell_type": "code",
      "source": [
        "string1 = \"aprender\"\n",
        "string2 = \"python\"\n",
        "resultado = str.capitalize(string1) + ' ' + str.capitalize(string2)\n",
        "print(resultado)"
      ],
      "metadata": {
        "colab": {
          "base_uri": "https://localhost:8080/"
        },
        "id": "pVf_kt0JYgSf",
        "outputId": "2a9fa818-c27d-451b-b995-081453c322b6"
      },
      "execution_count": 12,
      "outputs": [
        {
          "output_type": "stream",
          "name": "stdout",
          "text": [
            "Aprender Python\n"
          ]
        }
      ]
    },
    {
      "cell_type": "code",
      "source": [
        "#modificar texto\n",
        "frase = \"Python es divertido\"\n",
        "frase = frase.replace('divertido','genial')\n",
        "print(frase)"
      ],
      "metadata": {
        "colab": {
          "base_uri": "https://localhost:8080/"
        },
        "id": "VA54uf1zZhSA",
        "outputId": "e48b1266-1cd1-4765-b220-a6b9054567e4"
      },
      "execution_count": 13,
      "outputs": [
        {
          "output_type": "stream",
          "name": "stdout",
          "text": [
            "Python es genial\n"
          ]
        }
      ]
    },
    {
      "cell_type": "code",
      "source": [
        "#Indexación\n"
      ],
      "metadata": {
        "id": "xFQffTO5ZtPF"
      },
      "execution_count": null,
      "outputs": []
    }
  ]
}