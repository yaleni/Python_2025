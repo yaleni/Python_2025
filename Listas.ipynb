{
  "nbformat": 4,
  "nbformat_minor": 0,
  "metadata": {
    "colab": {
      "provenance": [],
      "authorship_tag": "ABX9TyPLtvfHFMiXidXTjBftTTTs",
      "include_colab_link": true
    },
    "kernelspec": {
      "name": "python3",
      "display_name": "Python 3"
    },
    "language_info": {
      "name": "python"
    }
  },
  "cells": [
    {
      "cell_type": "markdown",
      "metadata": {
        "id": "view-in-github",
        "colab_type": "text"
      },
      "source": [
        "<a href=\"https://colab.research.google.com/github/yaleni/Python_2025/blob/main/Listas.ipynb\" target=\"_parent\"><img src=\"https://colab.research.google.com/assets/colab-badge.svg\" alt=\"Open In Colab\"/></a>"
      ]
    },
    {
      "cell_type": "code",
      "execution_count": 3,
      "metadata": {
        "colab": {
          "base_uri": "https://localhost:8080/"
        },
        "id": "hI37sigNgSga",
        "outputId": "5163ea0d-3322-4b9c-904d-105a72a8d145"
      },
      "outputs": [
        {
          "output_type": "stream",
          "name": "stdout",
          "text": [
            "['manzana', 'banana', 'cereza']\n"
          ]
        }
      ],
      "source": [
        "#LISTAS EN PYTHON\n",
        "frutas =[\"manzana\",\"banana\",\"cereza\"]\n",
        "print(frutas)"
      ]
    },
    {
      "cell_type": "code",
      "source": [
        "type(frutas)"
      ],
      "metadata": {
        "colab": {
          "base_uri": "https://localhost:8080/"
        },
        "id": "wGVRwcqogmh8",
        "outputId": "d3b003e9-76b9-4c96-f279-e63a310595f8"
      },
      "execution_count": 5,
      "outputs": [
        {
          "output_type": "execute_result",
          "data": {
            "text/plain": [
              "list"
            ]
          },
          "metadata": {},
          "execution_count": 5
        }
      ]
    },
    {
      "cell_type": "code",
      "source": [
        "numeros =[1,2,3,4,5,6,7,8,9,10]\n",
        "type(numeros)\n",
        "#print(numeros)"
      ],
      "metadata": {
        "colab": {
          "base_uri": "https://localhost:8080/"
        },
        "id": "dSXG8WGxg-bT",
        "outputId": "4aebd2b2-9ed9-4643-d9a7-f7f06d58b689"
      },
      "execution_count": 7,
      "outputs": [
        {
          "output_type": "stream",
          "name": "stdout",
          "text": [
            "[1, 2, 3, 4, 5, 6, 7, 8, 9, 10]\n"
          ]
        }
      ]
    },
    {
      "cell_type": "code",
      "source": [
        "mylista = [\"a\",1,1.1,True,[1,2,3], [\"Andrea\", \"Sandro\", \"Alex\"]]\n",
        "type(mylista)\n",
        "print(mylista)"
      ],
      "metadata": {
        "colab": {
          "base_uri": "https://localhost:8080/"
        },
        "id": "RGvZ4aB9hN49",
        "outputId": "afb45f8e-9be5-4013-c4bd-ea32f38bef78"
      },
      "execution_count": 9,
      "outputs": [
        {
          "output_type": "stream",
          "name": "stdout",
          "text": [
            "['a', 1, 1.1, True, [1, 2, 3], ['Andrea', 'Sandro', 'Alex']]\n"
          ]
        }
      ]
    },
    {
      "cell_type": "code",
      "source": [
        "mylista[5][1]"
      ],
      "metadata": {
        "colab": {
          "base_uri": "https://localhost:8080/",
          "height": 36
        },
        "id": "UtrW2_1qh9Xy",
        "outputId": "ba06845f-10eb-4a0a-b1f2-f3f747ceaae9"
      },
      "execution_count": 14,
      "outputs": [
        {
          "output_type": "execute_result",
          "data": {
            "text/plain": [
              "'Sandro'"
            ],
            "application/vnd.google.colaboratory.intrinsic+json": {
              "type": "string"
            }
          },
          "metadata": {},
          "execution_count": 14
        }
      ]
    },
    {
      "cell_type": "code",
      "source": [
        "#REASIGNANDO UN VALOR\n",
        "frutas[0] = \"sandía\"\n",
        "print(frutas)"
      ],
      "metadata": {
        "colab": {
          "base_uri": "https://localhost:8080/"
        },
        "id": "WzQUgFP1inHL",
        "outputId": "e62022f8-4111-4569-9fd2-596ac7dfd856"
      },
      "execution_count": 15,
      "outputs": [
        {
          "output_type": "stream",
          "name": "stdout",
          "text": [
            "['sandía', 'banana', 'cereza']\n"
          ]
        }
      ]
    },
    {
      "cell_type": "code",
      "source": [
        "#AGREGANDO UN ELEMNTO A LA LISTA\n",
        "frutas.append(\"uva\")\n",
        "print(frutas)"
      ],
      "metadata": {
        "colab": {
          "base_uri": "https://localhost:8080/"
        },
        "id": "poEGFa7pi4Fi",
        "outputId": "714c6f13-f6d3-4d4a-b3ad-e6d675554e6d"
      },
      "execution_count": 19,
      "outputs": [
        {
          "output_type": "stream",
          "name": "stdout",
          "text": [
            "['sandía', 'banana', 'cereza', 'uva']\n"
          ]
        }
      ]
    },
    {
      "cell_type": "code",
      "source": [
        "#UTILIZANDO EL MEODO SORT PARA ORDENAR\n",
        "frutas.sort()\n",
        "print(frutas)"
      ],
      "metadata": {
        "colab": {
          "base_uri": "https://localhost:8080/"
        },
        "id": "AzR4cxR1jgZ4",
        "outputId": "1638fab1-f106-4ec6-af69-1324a84f1bd4"
      },
      "execution_count": 20,
      "outputs": [
        {
          "output_type": "stream",
          "name": "stdout",
          "text": [
            "['banana', 'cereza', 'sandía', 'uva']\n"
          ]
        }
      ]
    },
    {
      "cell_type": "code",
      "source": [
        "#SORT(REVERSE)\n",
        "frutas.sort(reverse=True)\n",
        "print(frutas)"
      ],
      "metadata": {
        "colab": {
          "base_uri": "https://localhost:8080/"
        },
        "id": "zsB3hs0K9b-D",
        "outputId": "4f50d74d-5a06-4975-e56f-c3a51f2efd22"
      },
      "execution_count": 21,
      "outputs": [
        {
          "output_type": "stream",
          "name": "stdout",
          "text": [
            "['uva', 'sandía', 'cereza', 'banana']\n"
          ]
        }
      ]
    },
    {
      "cell_type": "code",
      "source": [
        "#REMOVER DATOS DE LA LISTA\n",
        "frutas.remove(\"cereza\")\n",
        "print(frutas)\n",
        "\n",
        "#dir(frutas)"
      ],
      "metadata": {
        "colab": {
          "base_uri": "https://localhost:8080/"
        },
        "id": "QipTwX61987z",
        "outputId": "bd4cad10-24bd-4889-eb13-a24c9638d2ea"
      },
      "execution_count": 22,
      "outputs": [
        {
          "output_type": "stream",
          "name": "stdout",
          "text": [
            "['uva', 'sandía', 'banana']\n"
          ]
        }
      ]
    },
    {
      "cell_type": "code",
      "source": [
        "#Concatenar listas\n",
        "lista1 = [1,2,3]\n",
        "lista2 = [4,5,6]\n",
        "lista3 = lista1 + lista2\n",
        "print(lista3)"
      ],
      "metadata": {
        "colab": {
          "base_uri": "https://localhost:8080/"
        },
        "id": "f2u_ltNw-MjW",
        "outputId": "1211df69-b1eb-4886-b073-801c23dee80e"
      },
      "execution_count": 31,
      "outputs": [
        {
          "output_type": "stream",
          "name": "stdout",
          "text": [
            "[1, 2, 3, 4, 5, 6]\n"
          ]
        }
      ]
    },
    {
      "cell_type": "code",
      "source": [
        "repetida = lista1 * 3\n",
        "print(repetida)"
      ],
      "metadata": {
        "colab": {
          "base_uri": "https://localhost:8080/"
        },
        "id": "l0kTYOpG_BdT",
        "outputId": "63908859-a46c-466c-b314-6f4ff460bdc6"
      },
      "execution_count": 33,
      "outputs": [
        {
          "output_type": "stream",
          "name": "stdout",
          "text": [
            "[1, 2, 3, 1, 2, 3, 1, 2, 3]\n"
          ]
        }
      ]
    },
    {
      "cell_type": "code",
      "source": [
        "#SEGMENTACION DE LISTAS\n",
        "sublista = lista3[2:5]\n",
        "print(sublista)"
      ],
      "metadata": {
        "colab": {
          "base_uri": "https://localhost:8080/"
        },
        "id": "TZd0cmuhAMll",
        "outputId": "e167bd00-02c5-49cd-d99d-22edbf1b9225"
      },
      "execution_count": 34,
      "outputs": [
        {
          "output_type": "stream",
          "name": "stdout",
          "text": [
            "[3, 4, 5]\n"
          ]
        }
      ]
    },
    {
      "cell_type": "code",
      "source": [
        "#Ejercicio\n",
        "ciudades = [\"New York\", \"Paris\", \"Tokyo\", \"London\", \"Sydney\"]\n",
        "print(ciudades[0])\n",
        "print(ciudades[4])"
      ],
      "metadata": {
        "colab": {
          "base_uri": "https://localhost:8080/"
        },
        "id": "prCXvug6BJdR",
        "outputId": "f5842057-475e-4421-83d5-bae86816779e"
      },
      "execution_count": 35,
      "outputs": [
        {
          "output_type": "stream",
          "name": "stdout",
          "text": [
            "New York\n",
            "Sydney\n"
          ]
        }
      ]
    },
    {
      "cell_type": "code",
      "source": [
        "numeros = [1, 2, 3, 4, 5]\n",
        "numeros.append(6)\n",
        "print(numeros)\n",
        "numeros.remove(1)\n",
        "print(numeros)\n",
        "numeros.insert(0, 7)\n",
        "print(numeros)\n",
        "numeros.sort()\n",
        "print(numeros)"
      ],
      "metadata": {
        "colab": {
          "base_uri": "https://localhost:8080/"
        },
        "id": "EUkVP2DoBdPZ",
        "outputId": "93319a3c-31f6-4982-a681-b5416cdefa79"
      },
      "execution_count": 43,
      "outputs": [
        {
          "output_type": "stream",
          "name": "stdout",
          "text": [
            "[1, 2, 3, 4, 5, 6]\n",
            "[2, 3, 4, 5, 6]\n",
            "[7, 2, 3, 4, 5, 6]\n",
            "[2, 3, 4, 5, 6, 7]\n"
          ]
        }
      ]
    },
    {
      "cell_type": "code",
      "source": [
        "numeros = [1, 2, 3, 4, 5]\n",
        "print(numeros)\n",
        "\n",
        "numeros.append(6)\n",
        "print(numeros)\n",
        "\n",
        "numeros.pop(0)\n",
        "print(numeros)\n",
        "\n",
        "numeros.insert(1, 7)\n",
        "print(numeros)\n",
        "\n",
        "numeros.sort()\n",
        "print(numeros)\n"
      ],
      "metadata": {
        "colab": {
          "base_uri": "https://localhost:8080/"
        },
        "id": "IQPnQUPYEFkH",
        "outputId": "42104bff-6e98-4ccf-a807-a3a6ea669f84"
      },
      "execution_count": 44,
      "outputs": [
        {
          "output_type": "stream",
          "name": "stdout",
          "text": [
            "[1, 2, 3, 4, 5]\n",
            "[1, 2, 3, 4, 5, 6]\n",
            "[2, 3, 4, 5, 6]\n",
            "[2, 7, 3, 4, 5, 6]\n",
            "[2, 3, 4, 5, 6, 7]\n"
          ]
        }
      ]
    },
    {
      "cell_type": "code",
      "source": [
        "lista1 = [1, 2, 3]\n",
        "lista2 = [4, 5, 6]\n",
        "combinada = lista1 + lista2\n",
        "print(combinada)\n",
        "repetida = lista1 * 3\n",
        "print(repetida)\n",
        "sublista = combinada[1:4]\n",
        "print(sublista)"
      ],
      "metadata": {
        "colab": {
          "base_uri": "https://localhost:8080/"
        },
        "id": "2IuTCNRaBpVZ",
        "outputId": "71c2dbb6-d3c8-4735-f2d1-3dddb5cd704d"
      },
      "execution_count": 46,
      "outputs": [
        {
          "output_type": "stream",
          "name": "stdout",
          "text": [
            "[1, 2, 3, 4, 5, 6]\n",
            "[1, 2, 3, 1, 2, 3, 1, 2, 3]\n",
            "[2, 3, 4]\n"
          ]
        }
      ]
    },
    {
      "cell_type": "code",
      "source": [
        "#TUPLAS COLECCION DE ELEMENOTOS ORDENADOS, PERO NO PUEDEN CAMBIAR SUS ELEMENTOS Y SU TAMAÑO(INMUTABLES)\n",
        "\n",
        "T= 1,2,3\n",
        "type(T)"
      ],
      "metadata": {
        "colab": {
          "base_uri": "https://localhost:8080/"
        },
        "id": "3FK4cZD3Gnbm",
        "outputId": "ca04fd6e-040c-4974-dd80-f4e1a8e1f21f"
      },
      "execution_count": 48,
      "outputs": [
        {
          "output_type": "execute_result",
          "data": {
            "text/plain": [
              "tuple"
            ]
          },
          "metadata": {},
          "execution_count": 48
        }
      ]
    }
  ]
}